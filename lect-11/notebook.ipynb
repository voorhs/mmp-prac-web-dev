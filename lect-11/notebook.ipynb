{
 "cells": [
  {
   "cell_type": "markdown",
   "metadata": {},
   "source": [
    "# `Практикум по программированию на языке Python`\n",
    "<br>\n",
    "\n",
    "## `Занятие 11: Основы Web-разработки`\n",
    "<br><br>\n",
    "\n",
    "### `Алексеев Илья (tg: voorhs)`\n",
    "\n",
    "#### `ММП ВМК МГУ, 2024`"
   ]
  },
  {
   "cell_type": "markdown",
   "metadata": {},
   "source": [
    "### `Мотивация. Игрушечный пример`"
   ]
  },
  {
   "cell_type": "markdown",
   "metadata": {},
   "source": [
    "Представим ситуацию: вы решили сложную задачу (алгоритм поиска, обучение нейросети и т.д.). В нашем случае [задача с литкода](https://leetcode.com/problems/longest-palindromic-substring/description/).\n"
   ]
  },
  {
   "cell_type": "markdown",
   "metadata": {},
   "source": [
    "Содержимое файла `solution.py`:\n",
    "```python\n",
    "def find_palindrome(s: str) -> str:\n",
    "    input_str = s\n",
    "    is_pal = [\n",
    "        [False] * len(input_str) for _ in input_str\n",
    "    ]  # is_pal[i][j] == True iff input_str[i:j+1] is palindromic\n",
    "\n",
    "    for i in range(len(input_str)):\n",
    "        is_pal[i][i] = True\n",
    "\n",
    "    ans = input_str[0]\n",
    "    for substring_len in range(2, len(input_str) + 1):\n",
    "        cur_res = None\n",
    "        for i in range(len(input_str) - substring_len + 1):\n",
    "            j = i + substring_len - 1\n",
    "            tmp_res = (input_str[i] == input_str[j]) and (\n",
    "                substring_len <= 3 or is_pal[i + 1][j - 1]\n",
    "            )\n",
    "            is_pal[i][j] = tmp_res\n",
    "            if tmp_res and cur_res is None:\n",
    "                cur_res = input_str[i : j + 1]\n",
    "        if cur_res is not None:\n",
    "            ans = cur_res\n",
    "    return ans\n",
    "\n",
    "```"
   ]
  },
  {
   "cell_type": "markdown",
   "metadata": {},
   "source": [
    "Что если вы хотите поделиться с миром своей работой? Нужно создать интерфейс взаимодействия! "
   ]
  },
  {
   "cell_type": "markdown",
   "metadata": {},
   "source": [
    "### `Python package`"
   ]
  },
  {
   "cell_type": "markdown",
   "metadata": {},
   "source": [
    "Первое что необходимо сделать, это обернуть свое решение в Python API. Сделаем пакет, из которого можно импортировать функцию `find_palindrome`.\n",
    "\n",
    "\n",
    "Организуем проект:\n",
    "```bash\n",
    "toy_example/\n",
    "├── longest_palindrome\n",
    "│   ├── __init__.py\n",
    "│   └── solution.py\n",
    "├── requirements.txt\n",
    "├── server.py\n",
    "└── cli.py\n",
    "```\n",
    "\n",
    "Здесь:\n",
    "- `longest_palindrome/solution.py` --- код с решением задачи\n",
    "- `longest_palindrome/__init__.py` --- init-файл, который объявляет директорию `longest_palindrome` пакетом\n",
    "- `requirements.py` --- зависимости, используемые внутри `solution.py`\n",
    "\n",
    "Содержимое файла `__init__.py`:\n",
    "```python\n",
    "from .solution import find_palindrome\n",
    "\n",
    "__all__ = [\"find_palindrome\"]\n",
    "```"
   ]
  },
  {
   "cell_type": "markdown",
   "metadata": {},
   "source": [
    "Пример использования:\n",
    "```python\n",
    "from longest_palindrome import find_palindrome\n",
    "\n",
    "find_palindrome(\"ababad\")\n",
    "```"
   ]
  },
  {
   "cell_type": "markdown",
   "metadata": {},
   "source": [
    "### `Command-line interface (CLI) / Terminal user interface (TUI)`"
   ]
  },
  {
   "cell_type": "markdown",
   "metadata": {},
   "source": [
    "Другой способ взаимодействия с вашим решением --- через терминал. Как насчет того, чтобы реализовать следующий интерфейс:\n",
    "\n",
    "```bash\n",
    "voorhs@maibenben:~$ longest_palindrome --input-word \"ababad\"\n",
    "> babad\n",
    "```"
   ]
  },
  {
   "cell_type": "markdown",
   "metadata": {},
   "source": [
    "В точности такой интерфейс пока реализовать не сможем... Но вот, что можем сделать. Добавим в корень проекта файл `cli.py` со следующим содержимым:\n",
    "```python\n",
    "import argparse\n",
    "from longest_palindrome import find_palindrome\n",
    "\n",
    "def main():\n",
    "    parser = argparse.ArgumentParser(description=\"Find the longest palindrome in a string.\")\n",
    "    parser.add_argument(\"--input-word\", type=str, help=\"The input string\")\n",
    "    args = parser.parse_args()\n",
    "\n",
    "    result = find_palindrome(args.input_word)\n",
    "    print(f\"Longest palindrome: {result}\")\n",
    "\n",
    "if __name__ == \"__main__\":\n",
    "    main()\n",
    "```"
   ]
  },
  {
   "cell_type": "markdown",
   "metadata": {},
   "source": [
    "Структура проекта:\n",
    "```bash\n",
    "toy_example/\n",
    "├── longest_palindrome\n",
    "│   ├── __init__.py\n",
    "│   └── solution.py\n",
    "├── requirements.txt\n",
    "├── server.py\n",
    "├── cli.py\n",
    "└── ui.py\n",
    "```"
   ]
  },
  {
   "cell_type": "markdown",
   "metadata": {},
   "source": [
    "Теперь можем взаимодействовать с нашим приложением через терминал:\n",
    "```bash\n",
    "python cli.py --input-word \"ababad\"\n",
    "```\n",
    "\n",
    "Такой способ взаимодействия доступен более широкому кругу пользователей, нежели взаимодействие через python api. Для него не нужно знать python и уметь импортировать. Достаточно просто написать команду в терминале, который стоит на любом компьютере."
   ]
  },
  {
   "cell_type": "markdown",
   "metadata": {},
   "source": [
    "### HTTP server"
   ]
  },
  {
   "cell_type": "markdown",
   "metadata": {},
   "source": [
    "Ещё более общим способом взаимодействия с приложением являются HTTP-запросы. Они работают в формате \"request--response\". Вот простой пример, реализующий такой интерфейс:\n",
    "```python\n",
    "from fastapi import FastAPI\n",
    "from longest_palindrome import find_palindrome\n",
    "\n",
    "app = FastAPI()\n",
    "\n",
    "@app.get(\"/longest-palindrome/{input_string}\")\n",
    "def longest_palindrome(input_string: str):\n",
    "    return find_palindrome(input_string)\n",
    "    \n",
    "\n",
    "if __name__ == \"__main__\":\n",
    "    import uvicorn\n",
    "    uvicorn.run(app, host=\"127.0.0.1\", port=8000)\n",
    "```"
   ]
  },
  {
   "cell_type": "markdown",
   "metadata": {},
   "source": [
    "Теперь можно провзаимодействовать с приложением, введя в браузере следующий адрес\n",
    "```url\n",
    "http://127.0.0.1:8000/longest-palindrome/ababad\n",
    "```\n",
    "В ответ получим веб-страницу, с единственным содержимым: `\"ababa\"`"
   ]
  },
  {
   "cell_type": "markdown",
   "metadata": {},
   "source": [
    "О других способах создания HTTP-запросов поговорим далее в этом уроке (python requests, curl). Единственный вывод, который нужно сделать из данного игрушечного примера: HTTP --- это интефейс взаимодействия с приложением. \n",
    "\n",
    "Разговору о FastAPI будет посвящена вся лекция, которая состоится через неделю."
   ]
  },
  {
   "cell_type": "markdown",
   "metadata": {},
   "source": [
    "\n",
    "### `HTTP`\n",
    "\n",
    "HTTP (HyperText Transfer Protocol) — это протокол, позволяющий получать различные ресурсы. Изначально, как следует из названия — для документов, но сейчас уже для передачи произвольных данных. Лежит в основе обмена данными в Web.\n",
    "\n",
    "Это протокол клиент-серверного взаимодействия, что означает инициирование запросов к сереверу самим получателем. Итоговый документ может состоять из различных частей: текст, аудио/видео файлов, скриптов. Взаимодействие осущетвляется посредством обмена одиночными сообщенимями: запрос-ответ.\n",
    "\n",
    "HTTP является протоколом прикладного уровня, который в качестве транспорта использует возможности другого протокола — TCP. Основное требование к транспортному протоколу — надёжность, то есть, гарантированная доставка сообщений. По этой причине не подходит другой распространённый протокол — UDP, который не гарантирует доставку сообщений.\n",
    "\n",
    "#### Преимущества\n",
    "- Прост и человекочитаем\n",
    "- Расширяем\n",
    "- Не имеет состояния (каждый запрос — в отрыве от остальных), следовательно, базово простой\n",
    "\n",
    "#### Расширения\n",
    "- Кэш — сервер может инструктировать клиента/прокси о том, что и как надолго можно кэшировать\n",
    "- Ослабления ограничения источника — инструкции клиенту о том, что на загружаемой странице может содержаться информация с других доменов\n",
    "- Аутентификация — для доступа к защищённой информации\n",
    "- Прокси и туннелирование — сокрытие источника или получателя информации, кэширование для уменьшения нагрузки\n",
    "- Сессии — расширение для сохранения состояния взаимодействия. Несколько механизмов, самый известный — cookies"
   ]
  },
  {
   "cell_type": "markdown",
   "metadata": {},
   "source": [
    "### `Создание HTTP-запросов`"
   ]
  },
  {
   "cell_type": "markdown",
   "metadata": {},
   "source": [
    "- browser\n",
    "- curl\n",
    "- python requests"
   ]
  },
  {
   "cell_type": "markdown",
   "metadata": {},
   "source": [
    "Пример с обращением через браузер был скорее для наглядности. В реальной жизни такой способ взаимодействия используют для получения медиа-контента в виде веб-страниц, именемых \"сайтами\".\n",
    "\n",
    "В более общем случае HTTP может передавать произвольную информацию. Чтобы её получать, можете воспользоваться двумя инструментами: командой `curl` в терминале или библиотекой `requests` в python."
   ]
  },
  {
   "cell_type": "markdown",
   "metadata": {},
   "source": [
    "Пример **CURL** (client URL).\n",
    "```bash\n",
    "curl 'http://127.0.0.1:8000/longest-palindrome/babad'\n",
    "```"
   ]
  },
  {
   "cell_type": "markdown",
   "metadata": {},
   "source": [
    "Пример `requests`:\n",
    "\n",
    "```python\n",
    "import requests\n",
    "\n",
    "response = requests.get('http://127.0.0.1:8000/longest-palindrome/babad')\n",
    "\n",
    "print(response.text)\n",
    "```"
   ]
  },
  {
   "cell_type": "markdown",
   "metadata": {},
   "source": [
    "### `Пример с GitHub API`"
   ]
  },
  {
   "cell_type": "markdown",
   "metadata": {},
   "source": [
    "Получить информацию о контрибьюторах репозитория:\n",
    "\n",
    "```bash\n",
    "curl -X GET \\\n",
    "    -H \"Authorization: token $github_api_token\" \\\n",
    "    https://api.github.com/repos/deeppavlov/AutoIntent/contributors\n",
    "```"
   ]
  },
  {
   "cell_type": "markdown",
   "metadata": {},
   "source": [
    "Получить информацию о ветках репозитория:\n",
    "```bash\n",
    "curl -X GET \\\n",
    "    -H \"Authorization: token $github_api_token\" \\\n",
    "    https://api.github.com/repos/deeppavlov/AutoIntent/branches\n",
    "```"
   ]
  },
  {
   "cell_type": "markdown",
   "metadata": {},
   "source": [
    "Открыть новый issue:\n",
    "```bash\n",
    "curl -X POST \\\n",
    "    -H \"Authorization: token $github_api_token\" \\\n",
    "    -d '{\"title\":\"Found a bug\",\"body\":\"I'm having a problem with this.\"}' \\\n",
    "    https://api.github.com/repos/octocat/Hello-World/issues\n",
    "```"
   ]
  },
  {
   "cell_type": "markdown",
   "metadata": {},
   "source": [
    "### `Пример с VK API`"
   ]
  },
  {
   "cell_type": "code",
   "execution_count": null,
   "metadata": {},
   "outputs": [],
   "source": [
    "from dotenv import load_dotenv\n",
    "import os\n",
    "\n",
    "load_dotenv()\n",
    "app_service_token = os.environ[\"app_service_token\"]"
   ]
  },
  {
   "cell_type": "code",
   "execution_count": 28,
   "metadata": {},
   "outputs": [],
   "source": [
    "import requests\n",
    "\n",
    "def get_newsfeed(query: str, app_service_token: str):\n",
    "    return requests.get(\n",
    "        url=\"https://api.vk.ru/method/newsfeed.search\",\n",
    "        params={\n",
    "            \"v\": \"5.199\",\n",
    "            \"access_token\": app_service_token,\n",
    "            \"q\": query\n",
    "        },\n",
    "    ).json()"
   ]
  },
  {
   "cell_type": "code",
   "execution_count": null,
   "metadata": {},
   "outputs": [],
   "source": [
    "response = get_newsfeed(\"pepe\", app_service_token)"
   ]
  },
  {
   "cell_type": "code",
   "execution_count": 84,
   "metadata": {},
   "outputs": [
    {
     "data": {
      "text/plain": [
       "['inner_type',\n",
       " 'donut',\n",
       " 'comments',\n",
       " 'marked_as_ads',\n",
       " 'type',\n",
       " 'carousel_offset',\n",
       " 'attachments',\n",
       " 'date',\n",
       " 'edited',\n",
       " 'from_id',\n",
       " 'id',\n",
       " 'likes',\n",
       " 'reaction_set_id',\n",
       " 'reactions',\n",
       " 'owner_id',\n",
       " 'post_source',\n",
       " 'post_type',\n",
       " 'reposts',\n",
       " 'text',\n",
       " 'views']"
      ]
     },
     "execution_count": 84,
     "metadata": {},
     "output_type": "execute_result"
    }
   ],
   "source": [
    "item = response[\"response\"][\"items\"][0]\n",
    "list(item.keys())"
   ]
  },
  {
   "cell_type": "code",
   "execution_count": 94,
   "metadata": {},
   "outputs": [
    {
     "data": {
      "text/plain": [
       "{'count': 7, 'items': [{'id': 0, 'count': 7}]}"
      ]
     },
     "execution_count": 94,
     "metadata": {},
     "output_type": "execute_result"
    }
   ],
   "source": [
    "item[\"reactions\"]"
   ]
  },
  {
   "cell_type": "code",
   "execution_count": 85,
   "metadata": {},
   "outputs": [
    {
     "data": {
      "text/plain": [
       "'Немного пиджаков от PATRIZIA PEPE \\nОбзор 👉 тут https://vk.com/wall-132162077_4653'"
      ]
     },
     "execution_count": 85,
     "metadata": {},
     "output_type": "execute_result"
    }
   ],
   "source": [
    "item[\"text\"]"
   ]
  },
  {
   "cell_type": "code",
   "execution_count": 92,
   "metadata": {},
   "outputs": [
    {
     "data": {
      "text/plain": [
       "['album_id',\n",
       " 'date',\n",
       " 'id',\n",
       " 'owner_id',\n",
       " 'access_key',\n",
       " 'sizes',\n",
       " 'text',\n",
       " 'user_id',\n",
       " 'web_view_token',\n",
       " 'has_tags',\n",
       " 'orig_photo']"
      ]
     },
     "execution_count": 92,
     "metadata": {},
     "output_type": "execute_result"
    }
   ],
   "source": [
    "content = item[\"attachments\"][0][\"photo\"]\n",
    "list(content.keys())"
   ]
  },
  {
   "cell_type": "code",
   "execution_count": 93,
   "metadata": {},
   "outputs": [
    {
     "data": {
      "text/plain": [
       "{'height': 2560,\n",
       " 'type': 'base',\n",
       " 'url': 'https://sun1-13.vkuserphoto.ru/s/v1/ig2/AWuFFRYys_Q5i-kOo7V72eESQYMUXggJTNUaKyi0KIqP3D-tliyYYpQ9hGq6voVzWBa-_P_Kc2A4ofS1rr78ilf7.jpg?quality=95&as=32x43,48x64,72x96,108x144,160x213,240x320,360x480,480x640,540x720,640x853,720x960,1080x1440,1280x1707,1440x1920,1920x2560&from=bu',\n",
       " 'width': 1920}"
      ]
     },
     "execution_count": 93,
     "metadata": {},
     "output_type": "execute_result"
    }
   ],
   "source": [
    "content[\"orig_photo\"]"
   ]
  },
  {
   "cell_type": "markdown",
   "metadata": {},
   "source": [
    "### `Пример с YouTube API`"
   ]
  },
  {
   "cell_type": "markdown",
   "metadata": {},
   "source": [
    "```bash\n",
    "pip install google-api-python-client\n",
    "```"
   ]
  },
  {
   "cell_type": "code",
   "execution_count": 111,
   "metadata": {},
   "outputs": [],
   "source": [
    "import os\n",
    "import googleapiclient.discovery\n",
    "\n",
    "\n",
    "os.environ[\"OAUTHLIB_INSECURE_TRANSPORT\"] = \"1\"\n",
    "\n",
    "api_service_name = \"youtube\"\n",
    "api_version = \"v3\"\n",
    "DEVELOPER_KEY = os.environ[\"youtube_api_token\"]\n",
    "\n",
    "youtube = googleapiclient.discovery.build(api_service_name, api_version, developerKey=DEVELOPER_KEY)\n",
    "\n",
    "request = youtube.commentThreads().list(\n",
    "    part=\"id,snippet,replies\",\n",
    "    allThreadsRelatedToChannelId=\"UChLtMSiwB5Lip1adWm0k3nw\",\n",
    "    # maxResults=100,\n",
    "    order=\"time\",\n",
    "    textFormat=\"plainText\"\n",
    ")\n",
    "response = request.execute()"
   ]
  },
  {
   "cell_type": "code",
   "execution_count": 112,
   "metadata": {},
   "outputs": [],
   "source": [
    "res = []\n",
    "for com in response[\"items\"]:\n",
    "    comment_data = {}\n",
    "    comment_data['comment_id'] = com['id']\n",
    "    \n",
    "    com_snippet = com['snippet']\n",
    "    comment_data['channel_id'] = com_snippet['channelId']\n",
    "    comment_data['video_id'] = com_snippet['videoId']\n",
    "    \n",
    "    com_snippet_toplevel_snippet = com['snippet']['topLevelComment']['snippet']\n",
    "    comment_data['text'] = com_snippet_toplevel_snippet['textDisplay']\n",
    "    comment_data['author_url'] = com_snippet_toplevel_snippet['authorChannelUrl']\n",
    "    comment_data['author_id'] = com_snippet_toplevel_snippet['authorChannelId']['value']\n",
    "    comment_data['like_count'] = com_snippet_toplevel_snippet['likeCount']\n",
    "    comment_data['published_dt'] = com_snippet_toplevel_snippet['publishedAt']\n",
    "    comment_data['updated_dt'] = com_snippet_toplevel_snippet['updatedAt']\n",
    "    res.append(comment_data)"
   ]
  },
  {
   "cell_type": "code",
   "execution_count": 115,
   "metadata": {},
   "outputs": [
    {
     "data": {
      "text/plain": [
       "({'comment_id': 'UgyjgvTV2yxS46cBQTd4AaABAg',\n",
       "  'channel_id': 'UChLtMSiwB5Lip1adWm0k3nw',\n",
       "  'video_id': 'Dj2g0fV-xB8',\n",
       "  'text': 'Если бы \"Барби\" официально показывали в России',\n",
       "  'author_url': 'http://www.youtube.com/@%D0%A4%D0%B0%D0%BD%D0%B0%D1%82%D0%9A%D0%9C%D0%90%D0%92%D0%9C%D0%98%D0%9C%D0%9B%D0%A2%D0%9C%D0%932011',\n",
       "  'author_id': 'UCkz1s3E2vKSyq9Y1PElzcjQ',\n",
       "  'like_count': 0,\n",
       "  'published_dt': '2024-11-12T15:53:19Z',\n",
       "  'updated_dt': '2024-11-12T15:53:19Z'},\n",
       " {'comment_id': 'UgxDiOvq473eJ5-8tep4AaABAg',\n",
       "  'channel_id': 'UChLtMSiwB5Lip1adWm0k3nw',\n",
       "  'video_id': 'iEf6h06p-rM',\n",
       "  'text': 'Так и представляется финальная сцена из Хороший,плохой,злой под эту музыку, и перед моментом кульминации Якубович говорит крутите барабан.\\nСектор две могилки.😂',\n",
       "  'author_url': 'http://www.youtube.com/@kaxan1407',\n",
       "  'author_id': 'UCFx0dQKmQLrqkH4j-8ElBSw',\n",
       "  'like_count': 0,\n",
       "  'published_dt': '2024-11-12T05:18:51Z',\n",
       "  'updated_dt': '2024-11-12T05:18:51Z'})"
      ]
     },
     "execution_count": 115,
     "metadata": {},
     "output_type": "execute_result"
    }
   ],
   "source": [
    "res[1], res[5]"
   ]
  },
  {
   "cell_type": "markdown",
   "metadata": {},
   "source": [
    "### `Состав запроса`\n",
    "\n",
    "- HTTP-метод: GET, POST, OPTIONS и т. д., определяющее операцию, которую клиент хочет выполнить\n",
    "- Путь к ресурсу\n",
    "- Версию HTTP-протокола\n",
    "- Заголовки  (опционально)\n",
    "- Тело (для некоторых методов, таких как POST)\n",
    "\n",
    "\n",
    "```\n",
    "GET / HTTP/1.1\n",
    "Host: ya.ru\n",
    "User-Agent: Python script\n",
    "Accept: */*\n",
    "\n",
    "```"
   ]
  },
  {
   "cell_type": "markdown",
   "metadata": {},
   "source": [
    "### `Состав ответа`\n",
    "\n",
    "- Версию HTTP-протокола\n",
    "- HTTP код состояния, сообщающий об успешности запроса или причине неудачи\n",
    "- Сообщение состояния -- краткое описание кода состояния\n",
    "- HTTP заголовки\n",
    "- Опционально: тело, содержащее пересылаемый ресурс\n",
    "\n",
    "\n",
    "```\n",
    "HTTP/1.1 200 Ok\n",
    "Cache-Control: no-cache,no-store,max-age=0,must-revalidate\n",
    "Content-Length: 59978\n",
    "Content-Type: text/html; charset=UTF-8\n",
    "Date: Thu, 29 Apr 2021 03:48:39 GMT\n",
    "Set-Cookie: yp=1622260119.ygu.1; Expires=Sun, 27-Apr-2031 03:48:39 GMT; Domain=.ya.ru; Path=/\n",
    "```"
   ]
  },
  {
   "cell_type": "markdown",
   "metadata": {},
   "source": [
    "### `Типы запросов`\n",
    "\n",
    "Типы запросов в какой-то степени просто договорённость о семантике. Никто не мешает пользоваться только одним типом. Но глобально типы призваны определить что именно требуется при обращении к одному и тому же ресурсу. Каждый конкретный ресурс может поддерживать только часть методов.\n",
    "\n",
    "- GET — запрашивает представление ресурса. Запросы с использованием этого метода могут только извлекать данные\n",
    "- HEAD — запрашивает ресурс так же, как и метод GET, но без тела ответа\n",
    "- POST — используется для отправки сущностей к определённому ресурсу. Часто вызывает изменение состояния или какие-то побочные эффекты на сервере\n",
    "- PUT — заменяет все текущие представления ресурса данными запроса\n",
    "- DELETE — удаляет указанный ресурс\n",
    "- CONNECT — устанавливает \"туннель\" к серверу, определённому по ресурсу\n",
    "- OPTIONS — используется для описания параметров соединения с ресурсом\n",
    "- TRACE — выполняет вызов возвращаемого тестового сообщения с ресурса (например, для отладки)\n",
    "- PATCH — используется для частичного изменения ресурса"
   ]
  },
  {
   "cell_type": "markdown",
   "metadata": {},
   "source": [
    "### `Заголовки`\n",
    "\n",
    "- Authentication (WWW/Proxy-Authenticate, Authorization, Proxy-Authorization)\n",
    "- Caching (Cache-control, Age, Expires)\n",
    "- Client hints\n",
    "- Conditionals\n",
    "- Connection management (Connection, Keep-Alive)\n",
    "- Cookies\n",
    "- Message body information (Content-Length, Content-Type, Content-Encoding)\n",
    "- Request context (Host, Referer, User-Agent)\n",
    "- Response context\n",
    "- Security (Referrer-Policy)\n",
    "- WebSockets\n"
   ]
  },
  {
   "cell_type": "markdown",
   "metadata": {},
   "source": [
    "### `Коды`\n",
    "\n",
    "- Информационные (100 - 199)\n",
    "- Успешные (200 - 299)\n",
    "- Перенаправления (300 - 399)\n",
    "- Клиентские ошибки (400 - 499)\n",
    "- Серверные ошибки (500 - 599)\n",
    "\n",
    "```\n",
    "200 OK\n",
    "302 Found\n",
    "400 Bad Request\n",
    "401 Unauthorized\n",
    "404 Not Found\n",
    "500 Internal Server Error\n",
    "503 Service Unavailable\n",
    "```"
   ]
  },
  {
   "cell_type": "markdown",
   "metadata": {},
   "source": [
    "### `HTTPS`\n",
    "\n",
    "- HTTPS не является отдельным протоколом передачи данных, а представляет собой расширение протокола HTTP с надстройкой шифрования\n",
    "- передаваемые по протоколу HTTP данные не защищены, HTTPS обеспечивает конфиденциальность информации путем ее шифрования\n",
    "- HTTP использует порт 80, HTTPS — порт 443\n",
    "\n",
    "#### Сетевое обеспечение защищённого протокола\n",
    "\n",
    "SSL — Secure Sockets Layer: \"надстройка\" на несколькими слоями сетевой модели\n",
    "\n",
    "TLS — Transport Layer Security: развитие SSL\n",
    "\n",
    "Обеспечивают шифрование и поддержку сертификатов\n",
    "\n",
    "Принцип работы:\n",
    "- С помощью ассиметричного шифрования устанавливается ключ соединения и передаётся сессионный ключ\n",
    "- Всё дальнейшее общение шифруется уже сессионным ключом\n",
    "\n",
    "#### Асимметричное шифрование\n",
    "\n",
    "Называется так, потому что передающая сторона может только зашифровать (но не расшифровать) данные.\n",
    "\n",
    "Асимметричный ключ — ключ, имеющий две составляющие: публичную и частную (закрытую). Публичный ключ доступен любому. Частный (закрытый) известен только владельцу. Если браузер хочет отправить сообщение, то он находит публичный ключ сервера, шифрует сообщение и отправляет на сервер. Далее сервер расшифровывает полученное сообщение с помощью своего частного ключа. Чтобы ответить пользователю, сервер делает те же самые действия: поиск публичного ключа собеседника, шифрование, отправка\n",
    "\n",
    "Следовательно, для двустороннего общения требуется 2 пары ключей.\n",
    "\n",
    "Алгоритмы ассиметричного шифрования более ресурсоёмкие, поэтому обычно только первичная установка соединения производится с его помощью, далее стороны договариваются о симметричном сессионном ключе и дальшейшее общение ведётся с помощью симметричного шифрованиия\n",
    "\n",
    "#### Симметричное шифрование\n",
    "\n",
    "В этом случае у обеих сторон есть один ключ, с помощью которого они и передают данные. Основная проблема — как договориться об этом ключе, чтобы знали только две стороны. И один из способов (не единственный) — с помощью ассиметричных алгоритмов"
   ]
  },
  {
   "cell_type": "markdown",
   "metadata": {},
   "source": [
    "### `Python Web-clients`\n",
    "\n",
    "Стандартная библиотека `urllib`\n",
    "\n",
    "Реализует все необходимые методы и примитивы, но требует много вспомогательной работы"
   ]
  },
  {
   "cell_type": "code",
   "execution_count": null,
   "metadata": {
    "tags": []
   },
   "outputs": [],
   "source": [
    "import json\n",
    "import urllib.request\n",
    "ur = urllib.request.urlopen('https://postman-echo.com/get?foo=bar&foo1=bar1')\n",
    "print(ur.code)\n",
    "content = json.loads(ur.read())\n",
    "print(json.dumps(content, indent=4, sort_keys=True))"
   ]
  },
  {
   "cell_type": "code",
   "execution_count": null,
   "metadata": {},
   "outputs": [],
   "source": [
    "import json\n",
    "from urllib import request, parse\n",
    "data = parse.urlencode({ 'foo': 'bar' })\n",
    "data = data.encode()\n",
    "req = request.Request('https://postman-echo.com/post', method=\"POST\", data=data)\n",
    "ur = request.urlopen(req)\n",
    "print(ur.code)\n",
    "# print(ur.read())\n",
    "content = json.loads(ur.read())\n",
    "print(json.dumps(content, indent=4, sort_keys=True))"
   ]
  },
  {
   "cell_type": "markdown",
   "metadata": {},
   "source": [
    "Библиотека `requests`\n",
    "\n",
    "Инкапсулирует значительную часть вспомогательной обработки, позволяя сосредоточиться непосредственно на логике\n",
    "\n",
    "Установка:\n",
    "`pipenv install requests`\n",
    "\n",
    "Запрос GET"
   ]
  },
  {
   "cell_type": "code",
   "execution_count": null,
   "metadata": {},
   "outputs": [],
   "source": [
    "import requests\n",
    "\n",
    "r = requests.get('https://postman-echo.com/get', params={'foo': 'bar'}, headers={'user-agent': 'Python Script'})\n",
    "print(r.status_code)\n",
    "content = json.loads(r.content)\n",
    "print(json.dumps(content, indent=4, sort_keys=True))\n"
   ]
  },
  {
   "cell_type": "markdown",
   "metadata": {},
   "source": [
    "Запрос POST"
   ]
  },
  {
   "cell_type": "code",
   "execution_count": null,
   "metadata": {},
   "outputs": [],
   "source": [
    "import requests\n",
    "\n",
    "r = requests.post('https://postman-echo.com/post', json={'foo': 'bar'},headers = {'user-agent': 'Python Script', 'referer': 'google.com'})\n",
    "print(r.status_code)\n",
    "content = json.loads(r.content)\n",
    "print(json.dumps(content, indent=4, sort_keys=True))"
   ]
  }
 ],
 "metadata": {
  "kernelspec": {
   "display_name": ".mmp-webdev",
   "language": "python",
   "name": "python3"
  },
  "language_info": {
   "codemirror_mode": {
    "name": "ipython",
    "version": 3
   },
   "file_extension": ".py",
   "mimetype": "text/x-python",
   "name": "python",
   "nbconvert_exporter": "python",
   "pygments_lexer": "ipython3",
   "version": "3.10.15"
  }
 },
 "nbformat": 4,
 "nbformat_minor": 2
}
